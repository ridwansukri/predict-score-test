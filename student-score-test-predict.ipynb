{
  "nbformat": 4,
  "nbformat_minor": 0,
  "metadata": {
    "colab": {
      "name": "Project Muh Ridwan Sukri.ipynb",
      "provenance": [],
      "collapsed_sections": [],
      "toc_visible": true
    },
    "kernelspec": {
      "name": "python3",
      "display_name": "Python 3"
    },
    "language_info": {
      "name": "python"
    }
  },
  "cells": [
    {
      "cell_type": "markdown",
      "metadata": {
        "id": "egEosqzRqJRT"
      },
      "source": [
        "Python Project : Analyze and Creating Prediction Model for Student Score Test\n",
        "\n",
        "\n"
      ]
    },
    {
      "cell_type": "markdown",
      "metadata": {
        "id": "YYxPV5w9dCI0"
      },
      "source": [
        "# Introduction\n",
        "\n",
        "This dataset contains the background of the students and the test results obtained. The given info contains:\n",
        "\n",
        "\n",
        "\n",
        "*   **school** - Name of the school the student is enrolled in.\n",
        "*   **school_setting** - The location of the school.\n",
        "*   **school_type** - The type of school. Either public or non-public.\n",
        "*   **classrooom** - The type of classroom.\n",
        "*   **teaching_method** - Teaching methods: Either experimental or Standard.\n",
        "*   **n_student** - Number of students in the class.\n",
        "*   **student_id** - A unique ID for each student.\n",
        "*   **gender** - The gender of the students: male or female.\n",
        "*   **lunch** - Whether a student qualifies for free/subsidized lunch or not.\n",
        "*   **pretest** - The pretest score of the students out of 100\n",
        "\n",
        "\n",
        "The project goal is to get external insight factors that can potentially affect students' performance on the test results, and if it does, what can we predict based on these results."
      ]
    },
    {
      "cell_type": "markdown",
      "metadata": {
        "id": "_KwuYjnvdSDX"
      },
      "source": [
        "# Import Packages\n",
        "\n",
        "First, we have to run important packages to make sure our code below can run normally "
      ]
    },
    {
      "cell_type": "markdown",
      "metadata": {
        "id": "0evfUoobpXcY"
      },
      "source": [
        ""
      ]
    },
    {
      "cell_type": "code",
      "metadata": {
        "id": "BWRlQgCqqIdz",
        "colab": {
          "base_uri": "https://localhost:8080/"
        },
        "outputId": "17deb84a-b57b-4047-e620-b84005b3e0fa"
      },
      "source": [
        "import numpy as np\n",
        "import pandas as pd\n",
        "\n",
        "import seaborn as sns\n",
        "import matplotlib.pyplot as plt\n",
        "import statsmodels.formula.api as smf\n",
        "import tensorflow as tf\n",
        "\n",
        "from sklearn.preprocessing import LabelEncoder\n",
        "from sklearn.metrics import explained_variance_score, mean_absolute_error\n",
        "from sklearn.model_selection import train_test_split\n",
        "\n",
        "from sklearn.linear_model import Lasso, LinearRegression\n",
        "from sklearn.tree import DecisionTreeRegressor\n",
        "from sklearn.ensemble import RandomForestRegressor\n",
        "from sklearn.svm import SVR"
      ],
      "execution_count": 1,
      "outputs": [
        {
          "output_type": "stream",
          "name": "stderr",
          "text": [
            "/usr/local/lib/python3.7/dist-packages/statsmodels/tools/_testing.py:19: FutureWarning: pandas.util.testing is deprecated. Use the functions in the public API at pandas.testing instead.\n",
            "  import pandas.util.testing as tm\n"
          ]
        }
      ]
    },
    {
      "cell_type": "markdown",
      "metadata": {
        "id": "2BOSLwTTdr3A"
      },
      "source": [
        "# Import dataset and read the data\n",
        "\n",
        "We import a dataset from my archive and view data at a glance by viewing the top 5 data, bottom, and randomly."
      ]
    },
    {
      "cell_type": "code",
      "metadata": {
        "colab": {
          "base_uri": "https://localhost:8080/"
        },
        "id": "eITJL1LuiaSo",
        "outputId": "0ffd6f75-bcbe-436c-8a2d-404043e9256d"
      },
      "source": [
        "df = pd.read_csv('https://archive.org/download/test_scores_202110/test_scores.csv')\n",
        "df.info()\n"
      ],
      "execution_count": 2,
      "outputs": [
        {
          "output_type": "stream",
          "name": "stdout",
          "text": [
            "<class 'pandas.core.frame.DataFrame'>\n",
            "RangeIndex: 2133 entries, 0 to 2132\n",
            "Data columns (total 11 columns):\n",
            " #   Column           Non-Null Count  Dtype  \n",
            "---  ------           --------------  -----  \n",
            " 0   school           2133 non-null   object \n",
            " 1   school_setting   2133 non-null   object \n",
            " 2   school_type      2133 non-null   object \n",
            " 3   classroom        2133 non-null   object \n",
            " 4   teaching_method  2133 non-null   object \n",
            " 5   n_student        2133 non-null   float64\n",
            " 6   student_id       2133 non-null   object \n",
            " 7   gender           2133 non-null   object \n",
            " 8   lunch            2133 non-null   object \n",
            " 9   pretest          2133 non-null   float64\n",
            " 10  posttest         2133 non-null   float64\n",
            "dtypes: float64(3), object(8)\n",
            "memory usage: 183.4+ KB\n"
          ]
        }
      ]
    },
    {
      "cell_type": "code",
      "metadata": {
        "colab": {
          "base_uri": "https://localhost:8080/",
          "height": 206
        },
        "id": "chYAWa3RyFbP",
        "outputId": "34bb1d34-ab09-4342-e08d-ca42298ef453"
      },
      "source": [
        "df.head()"
      ],
      "execution_count": 3,
      "outputs": [
        {
          "output_type": "execute_result",
          "data": {
            "text/html": [
              "<div>\n",
              "<style scoped>\n",
              "    .dataframe tbody tr th:only-of-type {\n",
              "        vertical-align: middle;\n",
              "    }\n",
              "\n",
              "    .dataframe tbody tr th {\n",
              "        vertical-align: top;\n",
              "    }\n",
              "\n",
              "    .dataframe thead th {\n",
              "        text-align: right;\n",
              "    }\n",
              "</style>\n",
              "<table border=\"1\" class=\"dataframe\">\n",
              "  <thead>\n",
              "    <tr style=\"text-align: right;\">\n",
              "      <th></th>\n",
              "      <th>school</th>\n",
              "      <th>school_setting</th>\n",
              "      <th>school_type</th>\n",
              "      <th>classroom</th>\n",
              "      <th>teaching_method</th>\n",
              "      <th>n_student</th>\n",
              "      <th>student_id</th>\n",
              "      <th>gender</th>\n",
              "      <th>lunch</th>\n",
              "      <th>pretest</th>\n",
              "      <th>posttest</th>\n",
              "    </tr>\n",
              "  </thead>\n",
              "  <tbody>\n",
              "    <tr>\n",
              "      <th>0</th>\n",
              "      <td>ANKYI</td>\n",
              "      <td>Urban</td>\n",
              "      <td>Non-public</td>\n",
              "      <td>6OL</td>\n",
              "      <td>Standard</td>\n",
              "      <td>20.0</td>\n",
              "      <td>2FHT3</td>\n",
              "      <td>Female</td>\n",
              "      <td>Does not qualify</td>\n",
              "      <td>62.0</td>\n",
              "      <td>72.0</td>\n",
              "    </tr>\n",
              "    <tr>\n",
              "      <th>1</th>\n",
              "      <td>ANKYI</td>\n",
              "      <td>Urban</td>\n",
              "      <td>Non-public</td>\n",
              "      <td>6OL</td>\n",
              "      <td>Standard</td>\n",
              "      <td>20.0</td>\n",
              "      <td>3JIVH</td>\n",
              "      <td>Female</td>\n",
              "      <td>Does not qualify</td>\n",
              "      <td>66.0</td>\n",
              "      <td>79.0</td>\n",
              "    </tr>\n",
              "    <tr>\n",
              "      <th>2</th>\n",
              "      <td>ANKYI</td>\n",
              "      <td>Urban</td>\n",
              "      <td>Non-public</td>\n",
              "      <td>6OL</td>\n",
              "      <td>Standard</td>\n",
              "      <td>20.0</td>\n",
              "      <td>3XOWE</td>\n",
              "      <td>Male</td>\n",
              "      <td>Does not qualify</td>\n",
              "      <td>64.0</td>\n",
              "      <td>76.0</td>\n",
              "    </tr>\n",
              "    <tr>\n",
              "      <th>3</th>\n",
              "      <td>ANKYI</td>\n",
              "      <td>Urban</td>\n",
              "      <td>Non-public</td>\n",
              "      <td>6OL</td>\n",
              "      <td>Standard</td>\n",
              "      <td>20.0</td>\n",
              "      <td>556O0</td>\n",
              "      <td>Female</td>\n",
              "      <td>Does not qualify</td>\n",
              "      <td>61.0</td>\n",
              "      <td>77.0</td>\n",
              "    </tr>\n",
              "    <tr>\n",
              "      <th>4</th>\n",
              "      <td>ANKYI</td>\n",
              "      <td>Urban</td>\n",
              "      <td>Non-public</td>\n",
              "      <td>6OL</td>\n",
              "      <td>Standard</td>\n",
              "      <td>20.0</td>\n",
              "      <td>74LOE</td>\n",
              "      <td>Male</td>\n",
              "      <td>Does not qualify</td>\n",
              "      <td>64.0</td>\n",
              "      <td>76.0</td>\n",
              "    </tr>\n",
              "  </tbody>\n",
              "</table>\n",
              "</div>"
            ],
            "text/plain": [
              "  school school_setting school_type  ...             lunch pretest  posttest\n",
              "0  ANKYI          Urban  Non-public  ...  Does not qualify    62.0      72.0\n",
              "1  ANKYI          Urban  Non-public  ...  Does not qualify    66.0      79.0\n",
              "2  ANKYI          Urban  Non-public  ...  Does not qualify    64.0      76.0\n",
              "3  ANKYI          Urban  Non-public  ...  Does not qualify    61.0      77.0\n",
              "4  ANKYI          Urban  Non-public  ...  Does not qualify    64.0      76.0\n",
              "\n",
              "[5 rows x 11 columns]"
            ]
          },
          "metadata": {},
          "execution_count": 3
        }
      ]
    },
    {
      "cell_type": "code",
      "metadata": {
        "colab": {
          "base_uri": "https://localhost:8080/",
          "height": 345
        },
        "id": "qJp83tWqpXEa",
        "outputId": "6ead4024-ceec-4694-e667-45c609432562"
      },
      "source": [
        "df.tail()"
      ],
      "execution_count": 4,
      "outputs": [
        {
          "output_type": "execute_result",
          "data": {
            "text/html": [
              "<div>\n",
              "<style scoped>\n",
              "    .dataframe tbody tr th:only-of-type {\n",
              "        vertical-align: middle;\n",
              "    }\n",
              "\n",
              "    .dataframe tbody tr th {\n",
              "        vertical-align: top;\n",
              "    }\n",
              "\n",
              "    .dataframe thead th {\n",
              "        text-align: right;\n",
              "    }\n",
              "</style>\n",
              "<table border=\"1\" class=\"dataframe\">\n",
              "  <thead>\n",
              "    <tr style=\"text-align: right;\">\n",
              "      <th></th>\n",
              "      <th>school</th>\n",
              "      <th>school_setting</th>\n",
              "      <th>school_type</th>\n",
              "      <th>classroom</th>\n",
              "      <th>teaching_method</th>\n",
              "      <th>n_student</th>\n",
              "      <th>student_id</th>\n",
              "      <th>gender</th>\n",
              "      <th>lunch</th>\n",
              "      <th>pretest</th>\n",
              "      <th>posttest</th>\n",
              "    </tr>\n",
              "  </thead>\n",
              "  <tbody>\n",
              "    <tr>\n",
              "      <th>2128</th>\n",
              "      <td>ZOWMK</td>\n",
              "      <td>Urban</td>\n",
              "      <td>Public</td>\n",
              "      <td>ZBH</td>\n",
              "      <td>Standard</td>\n",
              "      <td>30.0</td>\n",
              "      <td>T8LSK</td>\n",
              "      <td>Female</td>\n",
              "      <td>Does not qualify</td>\n",
              "      <td>39.0</td>\n",
              "      <td>55.0</td>\n",
              "    </tr>\n",
              "    <tr>\n",
              "      <th>2129</th>\n",
              "      <td>ZOWMK</td>\n",
              "      <td>Urban</td>\n",
              "      <td>Public</td>\n",
              "      <td>ZBH</td>\n",
              "      <td>Standard</td>\n",
              "      <td>30.0</td>\n",
              "      <td>VNP26</td>\n",
              "      <td>Female</td>\n",
              "      <td>Qualifies for reduced/free lunch</td>\n",
              "      <td>38.0</td>\n",
              "      <td>46.0</td>\n",
              "    </tr>\n",
              "    <tr>\n",
              "      <th>2130</th>\n",
              "      <td>ZOWMK</td>\n",
              "      <td>Urban</td>\n",
              "      <td>Public</td>\n",
              "      <td>ZBH</td>\n",
              "      <td>Standard</td>\n",
              "      <td>30.0</td>\n",
              "      <td>YDR1Z</td>\n",
              "      <td>Female</td>\n",
              "      <td>Qualifies for reduced/free lunch</td>\n",
              "      <td>45.0</td>\n",
              "      <td>51.0</td>\n",
              "    </tr>\n",
              "    <tr>\n",
              "      <th>2131</th>\n",
              "      <td>ZOWMK</td>\n",
              "      <td>Urban</td>\n",
              "      <td>Public</td>\n",
              "      <td>ZBH</td>\n",
              "      <td>Standard</td>\n",
              "      <td>30.0</td>\n",
              "      <td>YUEIH</td>\n",
              "      <td>Male</td>\n",
              "      <td>Qualifies for reduced/free lunch</td>\n",
              "      <td>46.0</td>\n",
              "      <td>53.0</td>\n",
              "    </tr>\n",
              "    <tr>\n",
              "      <th>2132</th>\n",
              "      <td>ZOWMK</td>\n",
              "      <td>Urban</td>\n",
              "      <td>Public</td>\n",
              "      <td>ZBH</td>\n",
              "      <td>Standard</td>\n",
              "      <td>30.0</td>\n",
              "      <td>ZVCQ8</td>\n",
              "      <td>Male</td>\n",
              "      <td>Qualifies for reduced/free lunch</td>\n",
              "      <td>41.0</td>\n",
              "      <td>48.0</td>\n",
              "    </tr>\n",
              "  </tbody>\n",
              "</table>\n",
              "</div>"
            ],
            "text/plain": [
              "     school school_setting  ... pretest posttest\n",
              "2128  ZOWMK          Urban  ...    39.0     55.0\n",
              "2129  ZOWMK          Urban  ...    38.0     46.0\n",
              "2130  ZOWMK          Urban  ...    45.0     51.0\n",
              "2131  ZOWMK          Urban  ...    46.0     53.0\n",
              "2132  ZOWMK          Urban  ...    41.0     48.0\n",
              "\n",
              "[5 rows x 11 columns]"
            ]
          },
          "metadata": {},
          "execution_count": 4
        }
      ]
    },
    {
      "cell_type": "code",
      "metadata": {
        "colab": {
          "base_uri": "https://localhost:8080/",
          "height": 275
        },
        "id": "7GX2CnM8xuyn",
        "outputId": "0f350c19-dc17-420f-bf8d-b237821ee7ca"
      },
      "source": [
        "df.sample(5)"
      ],
      "execution_count": 5,
      "outputs": [
        {
          "output_type": "execute_result",
          "data": {
            "text/html": [
              "<div>\n",
              "<style scoped>\n",
              "    .dataframe tbody tr th:only-of-type {\n",
              "        vertical-align: middle;\n",
              "    }\n",
              "\n",
              "    .dataframe tbody tr th {\n",
              "        vertical-align: top;\n",
              "    }\n",
              "\n",
              "    .dataframe thead th {\n",
              "        text-align: right;\n",
              "    }\n",
              "</style>\n",
              "<table border=\"1\" class=\"dataframe\">\n",
              "  <thead>\n",
              "    <tr style=\"text-align: right;\">\n",
              "      <th></th>\n",
              "      <th>school</th>\n",
              "      <th>school_setting</th>\n",
              "      <th>school_type</th>\n",
              "      <th>classroom</th>\n",
              "      <th>teaching_method</th>\n",
              "      <th>n_student</th>\n",
              "      <th>student_id</th>\n",
              "      <th>gender</th>\n",
              "      <th>lunch</th>\n",
              "      <th>pretest</th>\n",
              "      <th>posttest</th>\n",
              "    </tr>\n",
              "  </thead>\n",
              "  <tbody>\n",
              "    <tr>\n",
              "      <th>1786</th>\n",
              "      <td>VKWQH</td>\n",
              "      <td>Rural</td>\n",
              "      <td>Public</td>\n",
              "      <td>DFQ</td>\n",
              "      <td>Experimental</td>\n",
              "      <td>19.0</td>\n",
              "      <td>NC4UO</td>\n",
              "      <td>Male</td>\n",
              "      <td>Does not qualify</td>\n",
              "      <td>66.0</td>\n",
              "      <td>80.0</td>\n",
              "    </tr>\n",
              "    <tr>\n",
              "      <th>59</th>\n",
              "      <td>CCAAW</td>\n",
              "      <td>Suburban</td>\n",
              "      <td>Non-public</td>\n",
              "      <td>EPS</td>\n",
              "      <td>Experimental</td>\n",
              "      <td>20.0</td>\n",
              "      <td>2RA1H</td>\n",
              "      <td>Female</td>\n",
              "      <td>Does not qualify</td>\n",
              "      <td>63.0</td>\n",
              "      <td>80.0</td>\n",
              "    </tr>\n",
              "    <tr>\n",
              "      <th>1216</th>\n",
              "      <td>OJOBU</td>\n",
              "      <td>Rural</td>\n",
              "      <td>Public</td>\n",
              "      <td>XJ8</td>\n",
              "      <td>Standard</td>\n",
              "      <td>23.0</td>\n",
              "      <td>AD5OK</td>\n",
              "      <td>Male</td>\n",
              "      <td>Qualifies for reduced/free lunch</td>\n",
              "      <td>55.0</td>\n",
              "      <td>62.0</td>\n",
              "    </tr>\n",
              "    <tr>\n",
              "      <th>1655</th>\n",
              "      <td>UUUQX</td>\n",
              "      <td>Suburban</td>\n",
              "      <td>Non-public</td>\n",
              "      <td>P8I</td>\n",
              "      <td>Standard</td>\n",
              "      <td>20.0</td>\n",
              "      <td>C3584</td>\n",
              "      <td>Female</td>\n",
              "      <td>Does not qualify</td>\n",
              "      <td>71.0</td>\n",
              "      <td>82.0</td>\n",
              "    </tr>\n",
              "    <tr>\n",
              "      <th>564</th>\n",
              "      <td>GJJHK</td>\n",
              "      <td>Suburban</td>\n",
              "      <td>Public</td>\n",
              "      <td>X78</td>\n",
              "      <td>Standard</td>\n",
              "      <td>21.0</td>\n",
              "      <td>SJ05X</td>\n",
              "      <td>Female</td>\n",
              "      <td>Qualifies for reduced/free lunch</td>\n",
              "      <td>54.0</td>\n",
              "      <td>69.0</td>\n",
              "    </tr>\n",
              "  </tbody>\n",
              "</table>\n",
              "</div>"
            ],
            "text/plain": [
              "     school school_setting  ... pretest posttest\n",
              "1786  VKWQH          Rural  ...    66.0     80.0\n",
              "59    CCAAW       Suburban  ...    63.0     80.0\n",
              "1216  OJOBU          Rural  ...    55.0     62.0\n",
              "1655  UUUQX       Suburban  ...    71.0     82.0\n",
              "564   GJJHK       Suburban  ...    54.0     69.0\n",
              "\n",
              "[5 rows x 11 columns]"
            ]
          },
          "metadata": {},
          "execution_count": 5
        }
      ]
    },
    {
      "cell_type": "markdown",
      "metadata": {
        "id": "29niu2fge5tV"
      },
      "source": [
        "This dataset has 2133 rows and 11 columns, consists of 8 categorical variables and 3 numerical variables. There are 3 columns contain unique ID that we need to investigate how important the data is to be included in our model.\n",
        "\n"
      ]
    },
    {
      "cell_type": "markdown",
      "metadata": {
        "id": "uNqUQK9GetHX"
      },
      "source": [
        "# Initial EDA"
      ]
    },
    {
      "cell_type": "code",
      "metadata": {
        "id": "9fPtjCRGGoMe",
        "colab": {
          "base_uri": "https://localhost:8080/"
        },
        "outputId": "165e3e61-4e5e-4813-c1c5-4a3e7f05e2de"
      },
      "source": [
        "#Return unique values of object (categorical) variables\n",
        "for col in df:\n",
        "    if df[col].dtype == \"object\":\n",
        "        print(col + \" - \" + str(len(np.unique(df[col]))))\n",
        "        print(str(np.unique(df[col])))"
      ],
      "execution_count": 6,
      "outputs": [
        {
          "output_type": "stream",
          "name": "stdout",
          "text": [
            "school - 23\n",
            "['ANKYI' 'CCAAW' 'CIMBB' 'CUQAM' 'DNQDD' 'FBUMG' 'GJJHK' 'GOKXL' 'GOOBU'\n",
            " 'IDGFP' 'KFZMY' 'KZKKE' 'LAYPA' 'OJOBU' 'QOQTS' 'UAGPU' 'UKPGS' 'UUUQX'\n",
            " 'VHDHF' 'VKWQH' 'VVTVA' 'ZMNYA' 'ZOWMK']\n",
            "school_setting - 3\n",
            "['Rural' 'Suburban' 'Urban']\n",
            "school_type - 2\n",
            "['Non-public' 'Public']\n",
            "classroom - 97\n",
            "['05H' '08N' '0N7' '18K' '197' '1Q1' '1SZ' '1UU' '1VD' '21Q' '2AP' '2B1'\n",
            " '2BR' '341' '3D0' '3XJ' '4NN' '5JK' '5LQ' '5SZ' '62L' '6C1' '6OL' '6U9'\n",
            " '7BL' '98D' '9AW' 'A33' 'A93' 'AE1' 'AJ1' 'BFY' 'CD8' 'CII' 'CXC' 'D33'\n",
            " 'DFQ' 'EID' 'ENO' 'EPS' 'FS3' 'G2L' 'GYM' 'H7S' 'HCB' 'HKF' 'HUJ' 'IEM'\n",
            " 'IPU' 'IQN' 'J6X' 'J8J' 'JGD' 'KR1' 'KXB' 'NOR' 'NWZ' 'O6A' 'OMI' 'P2A'\n",
            " 'P8I' 'PBA' 'PC6' 'PGH' 'PGK' 'PW5' 'Q0E' 'QA2' 'QTU' 'RA5' 'RK7' 'ROP'\n",
            " 'S98' 'SSP' 'ST7' 'SUR' 'TB5' 'TSA' 'U6J' 'UHU' 'UWK' 'V77' 'VA6' 'W8A'\n",
            " 'X2O' 'X6Z' 'X78' 'XJ8' 'XXE' 'XXJ' 'XZ4' 'XZM' 'YTB' 'YUC' 'ZBH' 'ZDT'\n",
            " 'ZNS']\n",
            "teaching_method - 2\n",
            "['Experimental' 'Standard']\n",
            "student_id - 2133\n",
            "['02WIH' '038FI' '03T0E' ... 'ZX8TB' 'ZY9X3' 'ZZGRB']\n",
            "gender - 2\n",
            "['Female' 'Male']\n",
            "lunch - 2\n",
            "['Does not qualify' 'Qualifies for reduced/free lunch']\n"
          ]
        }
      ]
    },
    {
      "cell_type": "code",
      "metadata": {
        "colab": {
          "base_uri": "https://localhost:8080/"
        },
        "id": "fVQ_ZEivFLa5",
        "outputId": "116c01a7-4de6-4bb0-a492-b64d1f0000ca"
      },
      "source": [
        "#crosstab of classroom and school to see which classrooms are in each school\n",
        "df_count = pd.crosstab(df.classroom, df.school)\n",
        "print(\"number of classrooms in each school\")  \n",
        "#count the number of classrooms that exist in each school\n",
        "print (df_count[df_count > 1.0].count())\n",
        "print(\"\")\n",
        "\n",
        "#similar crosstab to see how many schools have each classroom\n",
        "df_count2 = pd.crosstab( df.school,df.classroom,)\n",
        "print(\"max no of schools with each classroom - \" + str(df_count2[df_count2 > 1.0].count().max()))"
      ],
      "execution_count": 7,
      "outputs": [
        {
          "output_type": "stream",
          "name": "stdout",
          "text": [
            "number of classrooms in each school\n",
            "school\n",
            "ANKYI    2\n",
            "CCAAW    6\n",
            "CIMBB    4\n",
            "CUQAM    4\n",
            "DNQDD    5\n",
            "FBUMG    3\n",
            "GJJHK    5\n",
            "GOKXL    3\n",
            "GOOBU    6\n",
            "IDGFP    5\n",
            "KFZMY    2\n",
            "KZKKE    5\n",
            "LAYPA    3\n",
            "OJOBU    4\n",
            "QOQTS    6\n",
            "UAGPU    4\n",
            "UKPGS    6\n",
            "UUUQX    5\n",
            "VHDHF    3\n",
            "VKWQH    5\n",
            "VVTVA    4\n",
            "ZMNYA    3\n",
            "ZOWMK    4\n",
            "dtype: int64\n",
            "\n",
            "max no of schools with each classroom - 1\n"
          ]
        }
      ]
    },
    {
      "cell_type": "markdown",
      "metadata": {
        "id": "8wlTXaqhFjeh"
      },
      "source": [
        "\n",
        "\n",
        "This confirms that each school has several classrooms, but each classroom only exists within one school.\n",
        "We assume that classroom is an ID for a unique classroom, not a category of classrooms.\n",
        "\n",
        "\n",
        "---\n",
        "\n"
      ]
    },
    {
      "cell_type": "markdown",
      "metadata": {
        "id": "AUf_7h8L9N-6"
      },
      "source": [
        "We can get some insights from identify the unique values\n",
        "*   Students are coming accross 23 different schools\n",
        "*   Among schools are located from 3 different school settings\n",
        "*   Schools are classified into 2 school types\n",
        "*   There are 97 classes from 23 schools\n",
        "*   2 teaching methods been tought in all 23 schools\n",
        "*   Total 2133 students from all 23 schools\n"
      ]
    },
    {
      "cell_type": "markdown",
      "metadata": {
        "id": "sfreUYWw2gtY"
      },
      "source": [
        "# Find Missing and Duplicate Value"
      ]
    },
    {
      "cell_type": "code",
      "metadata": {
        "colab": {
          "base_uri": "https://localhost:8080/"
        },
        "id": "mEj67npIzJ1e",
        "outputId": "3318383f-f479-41d4-fd1e-6da377b4de79"
      },
      "source": [
        "print(df.isnull().sum())"
      ],
      "execution_count": 8,
      "outputs": [
        {
          "output_type": "stream",
          "name": "stdout",
          "text": [
            "school             0\n",
            "school_setting     0\n",
            "school_type        0\n",
            "classroom          0\n",
            "teaching_method    0\n",
            "n_student          0\n",
            "student_id         0\n",
            "gender             0\n",
            "lunch              0\n",
            "pretest            0\n",
            "posttest           0\n",
            "dtype: int64\n"
          ]
        }
      ]
    },
    {
      "cell_type": "code",
      "metadata": {
        "colab": {
          "base_uri": "https://localhost:8080/"
        },
        "id": "L-U4iAMQ3jRS",
        "outputId": "cc55deef-fbc3-4645-a0e0-fc32ef25c631"
      },
      "source": [
        "print(df.isna().sum())"
      ],
      "execution_count": 9,
      "outputs": [
        {
          "output_type": "stream",
          "name": "stdout",
          "text": [
            "school             0\n",
            "school_setting     0\n",
            "school_type        0\n",
            "classroom          0\n",
            "teaching_method    0\n",
            "n_student          0\n",
            "student_id         0\n",
            "gender             0\n",
            "lunch              0\n",
            "pretest            0\n",
            "posttest           0\n",
            "dtype: int64\n"
          ]
        }
      ]
    },
    {
      "cell_type": "code",
      "metadata": {
        "colab": {
          "base_uri": "https://localhost:8080/"
        },
        "id": "-_aQE-tJ7W2x",
        "outputId": "1cde34ec-c022-4479-ebb5-b6bc7b79128c"
      },
      "source": [
        "df.duplicated().sum()"
      ],
      "execution_count": 10,
      "outputs": [
        {
          "output_type": "execute_result",
          "data": {
            "text/plain": [
              "0"
            ]
          },
          "metadata": {},
          "execution_count": 10
        }
      ]
    },
    {
      "cell_type": "markdown",
      "metadata": {
        "id": "31CXr00RAFRf"
      },
      "source": [
        "There is no missing value and duplicate value found in this dataset\n"
      ]
    },
    {
      "cell_type": "markdown",
      "metadata": {
        "id": "cIG65M0I33Vx"
      },
      "source": [
        "# Exploratory data analysis (EDA)\n",
        "\n",
        "We will explore some parts of the data using graph to find another insights and that will be included in our model.\n"
      ]
    },
    {
      "cell_type": "code",
      "metadata": {
        "colab": {
          "base_uri": "https://localhost:8080/",
          "height": 917
        },
        "id": "T6fI2kUuQTiF",
        "outputId": "0e06e91b-9c3c-498b-acce-496f2f098135"
      },
      "source": [
        "fig = plt.figure(figsize=(15,15))\n",
        "gs = fig.add_gridspec(3,2)\n",
        "gs.update(wspace = 0.5 , hspace = 0.5)\n",
        "sns.set(style = \"ticks\")\n",
        "\n",
        "\n",
        "ax0 = fig.add_subplot(gs[0,0])\n",
        "ax1 = fig.add_subplot(gs[0,1])\n",
        "ax2 = fig.add_subplot(gs[1,0])\n",
        "ax3 = fig.add_subplot(gs[1,1])\n",
        "ax4 = fig.add_subplot(gs[2,0])\n",
        "ax5 = fig.add_subplot(gs[2,1])\n",
        "\n",
        "\n",
        "#Set title and label\n",
        "ax0.set_title(\"Distribution of Top 5 School\")\n",
        "ax1.set_title(\"Distribution of school setting\")\n",
        "ax2.set_title(\"Distribution of school type\")\n",
        "ax3.set_title(\"Distribution of Teaching Method\")\n",
        "ax4.set_title(\"Distribution of Gender\")\n",
        "ax5.set_title(\"Distribution of Lunch\")\n",
        "\n",
        "ax0.set_xticklabels(labels = [], rotation = 90) \n",
        "\n",
        "#construct subplots\n",
        "sns.countplot(ax = ax0 , x = \"school\" , data = df ,order = df.school.value_counts().iloc[:5].index )\n",
        "sns.countplot(ax = ax1 , x = \"school_setting\" , data = df)\n",
        "sns.countplot(ax = ax2 , x = \"school_type\" , data = df)\n",
        "sns.countplot(ax = ax3 , x = \"teaching_method\" , data = df)\n",
        "sns.countplot(ax = ax4 , x = \"gender\" , data = df)\n",
        "sns.countplot(ax = ax5 , x = \"lunch\" , data = df)\n",
        "\n"
      ],
      "execution_count": 11,
      "outputs": [
        {
          "output_type": "execute_result",
          "data": {
            "text/plain": [
              "<matplotlib.axes._subplots.AxesSubplot at 0x7eff62ba5310>"
            ]
          },
          "metadata": {},
          "execution_count": 11
        },
        {
          "output_type": "display_data",
          "data": {
            "image/png": "[encoded data removed]",
            "text/plain": [
              "<Figure size 1080x1080 with 6 Axes>"
            ]
          },
          "metadata": {
            "needs_background": "light"
          }
        }
      ]
    },
    {
      "cell_type": "code",
      "metadata": {
        "id": "5439M55jxPo0"
      },
      "source": [
        "#calculating the mean score for each demographic\n",
        "gender_score = df.groupby('gender').mean()['posttest'].reset_index()\n",
        "type_score = df.groupby('school_type').mean()['posttest'].reset_index()\n",
        "lunch_score = df.groupby('lunch').mean()['posttest'].reset_index()\n",
        "method_score = df.groupby('teaching_method').mean()['posttest'].reset_index()\n",
        "setting_score = df.groupby('school_setting').mean()['posttest'].reset_index()"
      ],
      "execution_count": 12,
      "outputs": []
    },
    {
      "cell_type": "code",
      "metadata": {
        "colab": {
          "base_uri": "https://localhost:8080/",
          "height": 559
        },
        "id": "Y5mIMCfkxEO7",
        "outputId": "48bb3ee3-9dee-4f1c-aa3c-72b4e08cb220"
      },
      "source": [
        "fig, ax = plt.subplots(2,2, figsize = [14, 9])\n",
        "\n",
        "sns.set_palette('Set1')\n",
        "sns.barplot(data=gender_score, y = 'posttest', x = 'gender', ax = ax[0,0])\n",
        "sns.barplot(data=type_score, y = 'posttest', x = 'school_type', ax = ax[0,1])\n",
        "sns.barplot(data=lunch_score, y = 'posttest', x = 'lunch', ax = ax[1,0])\n",
        "sns.barplot(data=method_score, y = 'posttest', x = 'teaching_method', ax = ax[1,1])\n",
        "\n",
        "\n",
        "sns.set_style('whitegrid')\n",
        "plt.show()"
      ],
      "execution_count": 13,
      "outputs": [
        {
          "output_type": "display_data",
          "data": {
            "image/png": "[encoded data removed]",
            "text/plain": [
              "<Figure size 1008x648 with 4 Axes>"
            ]
          },
          "metadata": {}
        }
      ]
    },
    {
      "cell_type": "code",
      "metadata": {
        "id": "0kjcCDdpAEdL",
        "colab": {
          "base_uri": "https://localhost:8080/",
          "height": 645
        },
        "outputId": "6e2e8243-8494-4cee-9f3a-1858f8ce50bc"
      },
      "source": [
        "fig = plt.figure(figsize=(15,10))\n",
        "gs = fig.add_gridspec(1,3)\n",
        "gs.update(wspace = 0.5 , hspace = 0.5)\n",
        "sns.set(style = \"ticks\")\n",
        "\n",
        "\n",
        "ax0 = fig.add_subplot(gs[0,0])\n",
        "ax1 = fig.add_subplot(gs[0,1])\n",
        "ax2 = fig.add_subplot(gs[0,2])\n",
        "\n",
        "\n",
        "\n",
        "#Set title and label\n",
        "ax0.set_title(\"Distribution of Number Student in A Class \")\n",
        "ax1.set_title(\"Distribution of pretest score\")\n",
        "ax2.set_title(\"Distribution of posttest score\")\n",
        "\n",
        "\n",
        "#construct subplots\n",
        "sns.histplot(ax = ax0 , x = \"n_student\" , data = df)\n",
        "sns.histplot(ax = ax1 , x = \"pretest\" , data = df)\n",
        "sns.histplot(ax = ax2 , x = \"posttest\" , data = df)\n"
      ],
      "execution_count": 14,
      "outputs": [
        {
          "output_type": "execute_result",
          "data": {
            "text/plain": [
              "<matplotlib.axes._subplots.AxesSubplot at 0x7eff62cb9710>"
            ]
          },
          "metadata": {},
          "execution_count": 14
        },
        {
          "output_type": "display_data",
          "data": {
            "image/png": "[encoded data removed]",
            "text/plain": [
              "<Figure size 1080x720 with 3 Axes>"
            ]
          },
          "metadata": {}
        }
      ]
    },
    {
      "cell_type": "markdown",
      "metadata": {
        "id": "tgk54a_vvfbJ"
      },
      "source": [
        "From graph above we can get some insights such as:\n",
        "\n",
        "*   Gender appears not to be a relevant factor for test score.\n",
        "*   Students from public schools have a mean performance gap compared to private school students of more than 15%.\n",
        "*   Students in poor economic conditions (qualifies for lunch program) have a even more score gap compared with those who don't qualify for reduced/free lunch.\n",
        "*  Public schools have more students per classroom\n",
        "*   Students from schools that use experimental teaching programs have a greater mean score compared to those from Standard schools.\n",
        "* Students without free lunch will have a better test results and students with free lunch will have lower test results.\n",
        "* n_student is right-skewed\n",
        "* pretest and posttest are normal distribution\n",
        "\n",
        "\n",
        "\n"
      ]
    },
    {
      "cell_type": "markdown",
      "metadata": {
        "id": "uBy2neNT8lEV"
      },
      "source": [
        "# Feature Engineering\n",
        "\n",
        "From the dataset, there are categorical variables, we need to convert them to numeric through the label encoding and one hot encoding process. But, first we have to drop unique values in \"school\", \"classroom\", and \"student_id\", that three columns doesn't have any effect on our label posttest because they just unique ID, so we can drop them to our model"
      ]
    },
    {
      "cell_type": "code",
      "metadata": {
        "id": "IL5xt_Qoo4vm"
      },
      "source": [
        "df.drop([\"school\", \"classroom\", \"student_id\",], axis=1, inplace=True)"
      ],
      "execution_count": 15,
      "outputs": []
    },
    {
      "cell_type": "code",
      "metadata": {
        "id": "8y2e6KL5vuk1"
      },
      "source": [
        "labelencoder = LabelEncoder()\n",
        "\n",
        "df['lunch'] = labelencoder.fit_transform(df['lunch'])\n",
        "df['school_type'] = labelencoder.fit_transform(df['school_type'])\n",
        "df['teaching_method'] = labelencoder.fit_transform(df['teaching_method'])\n",
        "df['gender'] = labelencoder.fit_transform(df['gender'])"
      ],
      "execution_count": 16,
      "outputs": []
    },
    {
      "cell_type": "code",
      "metadata": {
        "colab": {
          "base_uri": "https://localhost:8080/",
          "height": 363
        },
        "id": "XW9F9N0RxWEH",
        "outputId": "c055a1af-9036-48aa-c519-bee27924a01d"
      },
      "source": [
        "df.sample(10)"
      ],
      "execution_count": 17,
      "outputs": [
        {
          "output_type": "execute_result",
          "data": {
            "text/html": [
              "<div>\n",
              "<style scoped>\n",
              "    .dataframe tbody tr th:only-of-type {\n",
              "        vertical-align: middle;\n",
              "    }\n",
              "\n",
              "    .dataframe tbody tr th {\n",
              "        vertical-align: top;\n",
              "    }\n",
              "\n",
              "    .dataframe thead th {\n",
              "        text-align: right;\n",
              "    }\n",
              "</style>\n",
              "<table border=\"1\" class=\"dataframe\">\n",
              "  <thead>\n",
              "    <tr style=\"text-align: right;\">\n",
              "      <th></th>\n",
              "      <th>school_setting</th>\n",
              "      <th>school_type</th>\n",
              "      <th>teaching_method</th>\n",
              "      <th>n_student</th>\n",
              "      <th>gender</th>\n",
              "      <th>lunch</th>\n",
              "      <th>pretest</th>\n",
              "      <th>posttest</th>\n",
              "    </tr>\n",
              "  </thead>\n",
              "  <tbody>\n",
              "    <tr>\n",
              "      <th>2031</th>\n",
              "      <td>Urban</td>\n",
              "      <td>1</td>\n",
              "      <td>1</td>\n",
              "      <td>27.0</td>\n",
              "      <td>0</td>\n",
              "      <td>1</td>\n",
              "      <td>52.0</td>\n",
              "      <td>62.0</td>\n",
              "    </tr>\n",
              "    <tr>\n",
              "      <th>1315</th>\n",
              "      <td>Urban</td>\n",
              "      <td>1</td>\n",
              "      <td>1</td>\n",
              "      <td>28.0</td>\n",
              "      <td>1</td>\n",
              "      <td>0</td>\n",
              "      <td>54.0</td>\n",
              "      <td>65.0</td>\n",
              "    </tr>\n",
              "    <tr>\n",
              "      <th>373</th>\n",
              "      <td>Suburban</td>\n",
              "      <td>1</td>\n",
              "      <td>0</td>\n",
              "      <td>20.0</td>\n",
              "      <td>1</td>\n",
              "      <td>0</td>\n",
              "      <td>45.0</td>\n",
              "      <td>67.0</td>\n",
              "    </tr>\n",
              "    <tr>\n",
              "      <th>1881</th>\n",
              "      <td>Urban</td>\n",
              "      <td>1</td>\n",
              "      <td>0</td>\n",
              "      <td>30.0</td>\n",
              "      <td>0</td>\n",
              "      <td>1</td>\n",
              "      <td>30.0</td>\n",
              "      <td>47.0</td>\n",
              "    </tr>\n",
              "    <tr>\n",
              "      <th>40</th>\n",
              "      <td>Urban</td>\n",
              "      <td>0</td>\n",
              "      <td>1</td>\n",
              "      <td>21.0</td>\n",
              "      <td>1</td>\n",
              "      <td>0</td>\n",
              "      <td>60.0</td>\n",
              "      <td>66.0</td>\n",
              "    </tr>\n",
              "    <tr>\n",
              "      <th>1321</th>\n",
              "      <td>Urban</td>\n",
              "      <td>1</td>\n",
              "      <td>1</td>\n",
              "      <td>28.0</td>\n",
              "      <td>1</td>\n",
              "      <td>0</td>\n",
              "      <td>51.0</td>\n",
              "      <td>62.0</td>\n",
              "    </tr>\n",
              "    <tr>\n",
              "      <th>1076</th>\n",
              "      <td>Rural</td>\n",
              "      <td>1</td>\n",
              "      <td>1</td>\n",
              "      <td>23.0</td>\n",
              "      <td>0</td>\n",
              "      <td>1</td>\n",
              "      <td>34.0</td>\n",
              "      <td>49.0</td>\n",
              "    </tr>\n",
              "    <tr>\n",
              "      <th>825</th>\n",
              "      <td>Urban</td>\n",
              "      <td>1</td>\n",
              "      <td>0</td>\n",
              "      <td>26.0</td>\n",
              "      <td>1</td>\n",
              "      <td>1</td>\n",
              "      <td>42.0</td>\n",
              "      <td>55.0</td>\n",
              "    </tr>\n",
              "    <tr>\n",
              "      <th>108</th>\n",
              "      <td>Suburban</td>\n",
              "      <td>0</td>\n",
              "      <td>1</td>\n",
              "      <td>21.0</td>\n",
              "      <td>1</td>\n",
              "      <td>0</td>\n",
              "      <td>73.0</td>\n",
              "      <td>80.0</td>\n",
              "    </tr>\n",
              "    <tr>\n",
              "      <th>1086</th>\n",
              "      <td>Rural</td>\n",
              "      <td>1</td>\n",
              "      <td>1</td>\n",
              "      <td>23.0</td>\n",
              "      <td>1</td>\n",
              "      <td>1</td>\n",
              "      <td>31.0</td>\n",
              "      <td>42.0</td>\n",
              "    </tr>\n",
              "  </tbody>\n",
              "</table>\n",
              "</div>"
            ],
            "text/plain": [
              "     school_setting  school_type  teaching_method  ...  lunch  pretest  posttest\n",
              "2031          Urban            1                1  ...      1     52.0      62.0\n",
              "1315          Urban            1                1  ...      0     54.0      65.0\n",
              "373        Suburban            1                0  ...      0     45.0      67.0\n",
              "1881          Urban            1                0  ...      1     30.0      47.0\n",
              "40            Urban            0                1  ...      0     60.0      66.0\n",
              "1321          Urban            1                1  ...      0     51.0      62.0\n",
              "1076          Rural            1                1  ...      1     34.0      49.0\n",
              "825           Urban            1                0  ...      1     42.0      55.0\n",
              "108        Suburban            0                1  ...      0     73.0      80.0\n",
              "1086          Rural            1                1  ...      1     31.0      42.0\n",
              "\n",
              "[10 rows x 8 columns]"
            ]
          },
          "metadata": {},
          "execution_count": 17
        }
      ]
    },
    {
      "cell_type": "markdown",
      "metadata": {
        "id": "3UgsZBHHCYhu"
      },
      "source": [
        "There is \"school_setting\" column that we need to encode, but because this column has more than 2 values, we need to use one hot encoding"
      ]
    },
    {
      "cell_type": "code",
      "metadata": {
        "colab": {
          "base_uri": "https://localhost:8080/",
          "height": 383
        },
        "id": "quBkawVvpCPT",
        "outputId": "4bf41692-bb27-4aee-98c9-861efa1b3b71"
      },
      "source": [
        "df = pd.get_dummies(df)\n",
        "df.sample(10)"
      ],
      "execution_count": 18,
      "outputs": [
        {
          "output_type": "execute_result",
          "data": {
            "text/html": [
              "<div>\n",
              "<style scoped>\n",
              "    .dataframe tbody tr th:only-of-type {\n",
              "        vertical-align: middle;\n",
              "    }\n",
              "\n",
              "    .dataframe tbody tr th {\n",
              "        vertical-align: top;\n",
              "    }\n",
              "\n",
              "    .dataframe thead th {\n",
              "        text-align: right;\n",
              "    }\n",
              "</style>\n",
              "<table border=\"1\" class=\"dataframe\">\n",
              "  <thead>\n",
              "    <tr style=\"text-align: right;\">\n",
              "      <th></th>\n",
              "      <th>school_type</th>\n",
              "      <th>teaching_method</th>\n",
              "      <th>n_student</th>\n",
              "      <th>gender</th>\n",
              "      <th>lunch</th>\n",
              "      <th>pretest</th>\n",
              "      <th>posttest</th>\n",
              "      <th>school_setting_Rural</th>\n",
              "      <th>school_setting_Suburban</th>\n",
              "      <th>school_setting_Urban</th>\n",
              "    </tr>\n",
              "  </thead>\n",
              "  <tbody>\n",
              "    <tr>\n",
              "      <th>1884</th>\n",
              "      <td>1</td>\n",
              "      <td>0</td>\n",
              "      <td>30.0</td>\n",
              "      <td>0</td>\n",
              "      <td>1</td>\n",
              "      <td>31.0</td>\n",
              "      <td>48.0</td>\n",
              "      <td>0</td>\n",
              "      <td>0</td>\n",
              "      <td>1</td>\n",
              "    </tr>\n",
              "    <tr>\n",
              "      <th>1786</th>\n",
              "      <td>1</td>\n",
              "      <td>0</td>\n",
              "      <td>19.0</td>\n",
              "      <td>1</td>\n",
              "      <td>0</td>\n",
              "      <td>66.0</td>\n",
              "      <td>80.0</td>\n",
              "      <td>1</td>\n",
              "      <td>0</td>\n",
              "      <td>0</td>\n",
              "    </tr>\n",
              "    <tr>\n",
              "      <th>479</th>\n",
              "      <td>0</td>\n",
              "      <td>0</td>\n",
              "      <td>18.0</td>\n",
              "      <td>0</td>\n",
              "      <td>0</td>\n",
              "      <td>73.0</td>\n",
              "      <td>82.0</td>\n",
              "      <td>1</td>\n",
              "      <td>0</td>\n",
              "      <td>0</td>\n",
              "    </tr>\n",
              "    <tr>\n",
              "      <th>1134</th>\n",
              "      <td>1</td>\n",
              "      <td>1</td>\n",
              "      <td>19.0</td>\n",
              "      <td>0</td>\n",
              "      <td>0</td>\n",
              "      <td>60.0</td>\n",
              "      <td>66.0</td>\n",
              "      <td>1</td>\n",
              "      <td>0</td>\n",
              "      <td>0</td>\n",
              "    </tr>\n",
              "    <tr>\n",
              "      <th>1351</th>\n",
              "      <td>1</td>\n",
              "      <td>0</td>\n",
              "      <td>25.0</td>\n",
              "      <td>1</td>\n",
              "      <td>0</td>\n",
              "      <td>65.0</td>\n",
              "      <td>78.0</td>\n",
              "      <td>0</td>\n",
              "      <td>0</td>\n",
              "      <td>1</td>\n",
              "    </tr>\n",
              "    <tr>\n",
              "      <th>1356</th>\n",
              "      <td>1</td>\n",
              "      <td>0</td>\n",
              "      <td>25.0</td>\n",
              "      <td>1</td>\n",
              "      <td>0</td>\n",
              "      <td>63.0</td>\n",
              "      <td>74.0</td>\n",
              "      <td>0</td>\n",
              "      <td>0</td>\n",
              "      <td>1</td>\n",
              "    </tr>\n",
              "    <tr>\n",
              "      <th>1682</th>\n",
              "      <td>0</td>\n",
              "      <td>0</td>\n",
              "      <td>20.0</td>\n",
              "      <td>0</td>\n",
              "      <td>1</td>\n",
              "      <td>59.0</td>\n",
              "      <td>72.0</td>\n",
              "      <td>1</td>\n",
              "      <td>0</td>\n",
              "      <td>0</td>\n",
              "    </tr>\n",
              "    <tr>\n",
              "      <th>1308</th>\n",
              "      <td>1</td>\n",
              "      <td>1</td>\n",
              "      <td>28.0</td>\n",
              "      <td>1</td>\n",
              "      <td>0</td>\n",
              "      <td>59.0</td>\n",
              "      <td>66.0</td>\n",
              "      <td>0</td>\n",
              "      <td>0</td>\n",
              "      <td>1</td>\n",
              "    </tr>\n",
              "    <tr>\n",
              "      <th>356</th>\n",
              "      <td>1</td>\n",
              "      <td>1</td>\n",
              "      <td>27.0</td>\n",
              "      <td>0</td>\n",
              "      <td>1</td>\n",
              "      <td>47.0</td>\n",
              "      <td>56.0</td>\n",
              "      <td>0</td>\n",
              "      <td>1</td>\n",
              "      <td>0</td>\n",
              "    </tr>\n",
              "    <tr>\n",
              "      <th>1556</th>\n",
              "      <td>1</td>\n",
              "      <td>0</td>\n",
              "      <td>23.0</td>\n",
              "      <td>0</td>\n",
              "      <td>0</td>\n",
              "      <td>73.0</td>\n",
              "      <td>91.0</td>\n",
              "      <td>0</td>\n",
              "      <td>1</td>\n",
              "      <td>0</td>\n",
              "    </tr>\n",
              "  </tbody>\n",
              "</table>\n",
              "</div>"
            ],
            "text/plain": [
              "      school_type  ...  school_setting_Urban\n",
              "1884            1  ...                     1\n",
              "1786            1  ...                     0\n",
              "479             0  ...                     0\n",
              "1134            1  ...                     0\n",
              "1351            1  ...                     1\n",
              "1356            1  ...                     1\n",
              "1682            0  ...                     0\n",
              "1308            1  ...                     1\n",
              "356             1  ...                     0\n",
              "1556            1  ...                     0\n",
              "\n",
              "[10 rows x 10 columns]"
            ]
          },
          "metadata": {},
          "execution_count": 18
        }
      ]
    },
    {
      "cell_type": "markdown",
      "metadata": {
        "id": "7LORqQLrDGot"
      },
      "source": [
        "After Encoding, we need to move the column on original place (at the beginning of the column)"
      ]
    },
    {
      "cell_type": "code",
      "metadata": {
        "id": "GGOtIeFDgk5E"
      },
      "source": [
        "first_column = df.pop('school_setting_Rural')\n",
        "second_column = df.pop('school_setting_Suburban')\n",
        "third_column = df.pop('school_setting_Urban')\n",
        "\n",
        "df.insert(0, 'school_setting_Rural', first_column)\n",
        "df.insert(0, 'school_setting_Suburban', second_column)\n",
        "df.insert(0, 'school_setting_Urban', third_column)"
      ],
      "execution_count": 19,
      "outputs": []
    },
    {
      "cell_type": "code",
      "metadata": {
        "colab": {
          "base_uri": "https://localhost:8080/",
          "height": 226
        },
        "id": "a9uX8UqHhEzX",
        "outputId": "eb22cb77-5968-4ccb-dc57-a66c84c12c81"
      },
      "source": [
        "df.head()"
      ],
      "execution_count": 20,
      "outputs": [
        {
          "output_type": "execute_result",
          "data": {
            "text/html": [
              "<div>\n",
              "<style scoped>\n",
              "    .dataframe tbody tr th:only-of-type {\n",
              "        vertical-align: middle;\n",
              "    }\n",
              "\n",
              "    .dataframe tbody tr th {\n",
              "        vertical-align: top;\n",
              "    }\n",
              "\n",
              "    .dataframe thead th {\n",
              "        text-align: right;\n",
              "    }\n",
              "</style>\n",
              "<table border=\"1\" class=\"dataframe\">\n",
              "  <thead>\n",
              "    <tr style=\"text-align: right;\">\n",
              "      <th></th>\n",
              "      <th>school_setting_Urban</th>\n",
              "      <th>school_setting_Suburban</th>\n",
              "      <th>school_setting_Rural</th>\n",
              "      <th>school_type</th>\n",
              "      <th>teaching_method</th>\n",
              "      <th>n_student</th>\n",
              "      <th>gender</th>\n",
              "      <th>lunch</th>\n",
              "      <th>pretest</th>\n",
              "      <th>posttest</th>\n",
              "    </tr>\n",
              "  </thead>\n",
              "  <tbody>\n",
              "    <tr>\n",
              "      <th>0</th>\n",
              "      <td>1</td>\n",
              "      <td>0</td>\n",
              "      <td>0</td>\n",
              "      <td>0</td>\n",
              "      <td>1</td>\n",
              "      <td>20.0</td>\n",
              "      <td>0</td>\n",
              "      <td>0</td>\n",
              "      <td>62.0</td>\n",
              "      <td>72.0</td>\n",
              "    </tr>\n",
              "    <tr>\n",
              "      <th>1</th>\n",
              "      <td>1</td>\n",
              "      <td>0</td>\n",
              "      <td>0</td>\n",
              "      <td>0</td>\n",
              "      <td>1</td>\n",
              "      <td>20.0</td>\n",
              "      <td>0</td>\n",
              "      <td>0</td>\n",
              "      <td>66.0</td>\n",
              "      <td>79.0</td>\n",
              "    </tr>\n",
              "    <tr>\n",
              "      <th>2</th>\n",
              "      <td>1</td>\n",
              "      <td>0</td>\n",
              "      <td>0</td>\n",
              "      <td>0</td>\n",
              "      <td>1</td>\n",
              "      <td>20.0</td>\n",
              "      <td>1</td>\n",
              "      <td>0</td>\n",
              "      <td>64.0</td>\n",
              "      <td>76.0</td>\n",
              "    </tr>\n",
              "    <tr>\n",
              "      <th>3</th>\n",
              "      <td>1</td>\n",
              "      <td>0</td>\n",
              "      <td>0</td>\n",
              "      <td>0</td>\n",
              "      <td>1</td>\n",
              "      <td>20.0</td>\n",
              "      <td>0</td>\n",
              "      <td>0</td>\n",
              "      <td>61.0</td>\n",
              "      <td>77.0</td>\n",
              "    </tr>\n",
              "    <tr>\n",
              "      <th>4</th>\n",
              "      <td>1</td>\n",
              "      <td>0</td>\n",
              "      <td>0</td>\n",
              "      <td>0</td>\n",
              "      <td>1</td>\n",
              "      <td>20.0</td>\n",
              "      <td>1</td>\n",
              "      <td>0</td>\n",
              "      <td>64.0</td>\n",
              "      <td>76.0</td>\n",
              "    </tr>\n",
              "  </tbody>\n",
              "</table>\n",
              "</div>"
            ],
            "text/plain": [
              "   school_setting_Urban  school_setting_Suburban  ...  pretest  posttest\n",
              "0                     1                        0  ...     62.0      72.0\n",
              "1                     1                        0  ...     66.0      79.0\n",
              "2                     1                        0  ...     64.0      76.0\n",
              "3                     1                        0  ...     61.0      77.0\n",
              "4                     1                        0  ...     64.0      76.0\n",
              "\n",
              "[5 rows x 10 columns]"
            ]
          },
          "metadata": {},
          "execution_count": 20
        }
      ]
    },
    {
      "cell_type": "markdown",
      "metadata": {
        "id": "FNIKXCGf6ool"
      },
      "source": [
        "# Correlation Matrix\n",
        "\n",
        "Through the Correlation Matrix, we are looking for correlations between variables"
      ]
    },
    {
      "cell_type": "code",
      "metadata": {
        "colab": {
          "base_uri": "https://localhost:8080/",
          "height": 635
        },
        "id": "lCNfTB3qqkSE",
        "outputId": "6aeb0efe-4dc5-44aa-b904-782f73b53ae2"
      },
      "source": [
        "corr = df.corr()\n",
        "sns.set(rc = {'figure.figsize':(15,8)})\n",
        "sns.heatmap(corr, annot=True)"
      ],
      "execution_count": 21,
      "outputs": [
        {
          "output_type": "execute_result",
          "data": {
            "text/plain": [
              "<matplotlib.axes._subplots.AxesSubplot at 0x7eff6244ead0>"
            ]
          },
          "metadata": {},
          "execution_count": 21
        },
        {
          "output_type": "display_data",
          "data": {
            "image/png": "[encoded data removed]",
            "text/plain": [
              "<Figure size 1080x576 with 2 Axes>"
            ]
          },
          "metadata": {}
        }
      ]
    },
    {
      "cell_type": "markdown",
      "metadata": {
        "id": "A64qE_Hr9RSm"
      },
      "source": [
        "We can see there is a really good correlation between pre-test scores and post-test scores. BUT, we also see that pre-test score is also negatively correlated with lunch, number of students in class, school_type, and school_setting. Pre-test scores are positively correlated with teaching methods."
      ]
    },
    {
      "cell_type": "markdown",
      "metadata": {
        "id": "0UViboVCOEWQ"
      },
      "source": [
        "# Model Summary"
      ]
    },
    {
      "cell_type": "code",
      "metadata": {
        "colab": {
          "base_uri": "https://localhost:8080/"
        },
        "id": "Q05cdZUHNigf",
        "outputId": "3f945993-add9-4331-d5ac-c6c02aa64ae0"
      },
      "source": [
        "regplot = smf.ols('posttest ~ pretest', data=df).fit()\n",
        "print(regplot.summary())"
      ],
      "execution_count": 22,
      "outputs": [
        {
          "output_type": "stream",
          "name": "stdout",
          "text": [
            "                            OLS Regression Results                            \n",
            "==============================================================================\n",
            "Dep. Variable:               posttest   R-squared:                       0.904\n",
            "Model:                            OLS   Adj. R-squared:                  0.904\n",
            "Method:                 Least Squares   F-statistic:                 2.011e+04\n",
            "Date:                Sat, 23 Oct 2021   Prob (F-statistic):               0.00\n",
            "Time:                        14:25:13   Log-Likelihood:                -6151.9\n",
            "No. Observations:                2133   AIC:                         1.231e+04\n",
            "Df Residuals:                    2131   BIC:                         1.232e+04\n",
            "Df Model:                           1                                         \n",
            "Covariance Type:            nonrobust                                         \n",
            "==============================================================================\n",
            "                 coef    std err          t      P>|t|      [0.025      0.975]\n",
            "------------------------------------------------------------------------------\n",
            "Intercept     13.2131      0.391     33.757      0.000      12.445      13.981\n",
            "pretest        0.9806      0.007    141.806      0.000       0.967       0.994\n",
            "==============================================================================\n",
            "Omnibus:                       17.617   Durbin-Watson:                   1.138\n",
            "Prob(Omnibus):                  0.000   Jarque-Bera (JB):               16.584\n",
            "Skew:                           0.180   Prob(JB):                     0.000250\n",
            "Kurtosis:                       2.762   Cond. No.                         236.\n",
            "==============================================================================\n",
            "\n",
            "Warnings:\n",
            "[1] Standard Errors assume that the covariance matrix of the errors is correctly specified.\n"
          ]
        }
      ]
    },
    {
      "cell_type": "markdown",
      "metadata": {
        "id": "yf0GG4ywOLLy"
      },
      "source": [
        "Ok, so this is a summary of the association between pre-test and post-test scores which we already know is strong. We can see that the p-value is low (which tells us about the strong relationship), but we also see the R-squared, 90%. Meaning, pre-test scores explain 90,4% of the variability in post-test scores.\n",
        "\n",
        "Let's see what happens when we add in all other variables in a multiple regression\n"
      ]
    },
    {
      "cell_type": "code",
      "metadata": {
        "colab": {
          "base_uri": "https://localhost:8080/"
        },
        "id": "Sb6ZQJyrNlJR",
        "outputId": "a6eda236-2db0-4d7a-8a1d-5e222c91a9f0"
      },
      "source": [
        "regplot = smf.ols('posttest ~ pretest + lunch + gender +n_student + teaching_method + school_type + school_setting_Rural + school_setting_Suburban + school_setting_Urban', data=df).fit()\n",
        "print(regplot.summary())"
      ],
      "execution_count": 23,
      "outputs": [
        {
          "output_type": "stream",
          "name": "stdout",
          "text": [
            "                            OLS Regression Results                            \n",
            "==============================================================================\n",
            "Dep. Variable:               posttest   R-squared:                       0.947\n",
            "Model:                            OLS   Adj. R-squared:                  0.947\n",
            "Method:                 Least Squares   F-statistic:                     4785.\n",
            "Date:                Sat, 23 Oct 2021   Prob (F-statistic):               0.00\n",
            "Time:                        14:25:13   Log-Likelihood:                -5511.6\n",
            "No. Observations:                2133   AIC:                         1.104e+04\n",
            "Df Residuals:                    2124   BIC:                         1.109e+04\n",
            "Df Model:                           8                                         \n",
            "Covariance Type:            nonrobust                                         \n",
            "===========================================================================================\n",
            "                              coef    std err          t      P>|t|      [0.025      0.975]\n",
            "-------------------------------------------------------------------------------------------\n",
            "Intercept                  17.6736      0.631     28.026      0.000      16.437      18.910\n",
            "pretest                     0.9104      0.008    109.018      0.000       0.894       0.927\n",
            "lunch                      -0.8976      0.192     -4.673      0.000      -1.274      -0.521\n",
            "gender                     -0.0782      0.139     -0.561      0.575      -0.352       0.195\n",
            "n_student                  -0.0956      0.029     -3.258      0.001      -0.153      -0.038\n",
            "teaching_method            -6.0332      0.148    -40.641      0.000      -6.324      -5.742\n",
            "school_type                -0.0361      0.230     -0.156      0.876      -0.488       0.416\n",
            "school_setting_Rural        5.5647      0.185     30.081      0.000       5.202       5.927\n",
            "school_setting_Suburban     6.3327      0.271     23.327      0.000       5.800       6.865\n",
            "school_setting_Urban        5.7762      0.275     21.042      0.000       5.238       6.315\n",
            "==============================================================================\n",
            "Omnibus:                        2.388   Durbin-Watson:                   1.874\n",
            "Prob(Omnibus):                  0.303   Jarque-Bera (JB):                2.474\n",
            "Skew:                           0.016   Prob(JB):                        0.290\n",
            "Kurtosis:                       3.164   Cond. No.                     3.81e+16\n",
            "==============================================================================\n",
            "\n",
            "Warnings:\n",
            "[1] Standard Errors assume that the covariance matrix of the errors is correctly specified.\n",
            "[2] The smallest eigenvalue is 5.41e-27. This might indicate that there are\n",
            "strong multicollinearity problems or that the design matrix is singular.\n"
          ]
        }
      ]
    },
    {
      "cell_type": "markdown",
      "metadata": {
        "id": "ll0RrMtGOPFu"
      },
      "source": [
        "Ok, so at first glance we can already conclude that school type & gender are not a very good predictors of post-test score based on their p-values that indicate a weak association.\n"
      ]
    },
    {
      "cell_type": "markdown",
      "metadata": {
        "id": "xdYav9trstoB"
      },
      "source": [
        "# Building Regression Models\n",
        "\n",
        "Features are often referred to as \"independent variables\" and Label is often referred to as \"dependent variable\".\n",
        "\n",
        "Here posttest is our label because it depends on other features."
      ]
    },
    {
      "cell_type": "code",
      "metadata": {
        "id": "qzNTMPmapJIz",
        "colab": {
          "base_uri": "https://localhost:8080/"
        },
        "outputId": "5c0c83d7-f47c-48c8-b2c2-f3b72e237cf5"
      },
      "source": [
        "X = df.drop(['posttest','gender','school_type'],axis=1)\n",
        "y = df['posttest']\n",
        "len(X)"
      ],
      "execution_count": 24,
      "outputs": [
        {
          "output_type": "execute_result",
          "data": {
            "text/plain": [
              "2133"
            ]
          },
          "metadata": {},
          "execution_count": 24
        }
      ]
    },
    {
      "cell_type": "markdown",
      "metadata": {
        "id": "QsWlYDWrtQXh"
      },
      "source": [
        "Splitting the data in training and testing set\n",
        "\n",
        "*  Training data set is used for fitting our model to learn the patterns.\n",
        "*  Testing data set is used for prediction and unbiased evaluation of our final model\n",
        "\n",
        "Training data set - 70% of the total data\n",
        "\n",
        "Testing data set - 30% of the total data"
      ]
    },
    {
      "cell_type": "code",
      "metadata": {
        "id": "qTGsaf7KpK1T"
      },
      "source": [
        "X_train, X_test, y_train, y_test = train_test_split(X, y, test_size=0.3, random_state=42)"
      ],
      "execution_count": 25,
      "outputs": []
    },
    {
      "cell_type": "markdown",
      "metadata": {
        "id": "nUM0qhWqHbRF"
      },
      "source": [
        "We need to check again our train and testing data before regression step."
      ]
    },
    {
      "cell_type": "code",
      "metadata": {
        "colab": {
          "base_uri": "https://localhost:8080/",
          "height": 424
        },
        "id": "DljLKAFSGz5P",
        "outputId": "91b7d1ea-088b-406c-e03e-fefe108996ed"
      },
      "source": [
        "X_train"
      ],
      "execution_count": 26,
      "outputs": [
        {
          "output_type": "execute_result",
          "data": {
            "text/html": [
              "<div>\n",
              "<style scoped>\n",
              "    .dataframe tbody tr th:only-of-type {\n",
              "        vertical-align: middle;\n",
              "    }\n",
              "\n",
              "    .dataframe tbody tr th {\n",
              "        vertical-align: top;\n",
              "    }\n",
              "\n",
              "    .dataframe thead th {\n",
              "        text-align: right;\n",
              "    }\n",
              "</style>\n",
              "<table border=\"1\" class=\"dataframe\">\n",
              "  <thead>\n",
              "    <tr style=\"text-align: right;\">\n",
              "      <th></th>\n",
              "      <th>school_setting_Urban</th>\n",
              "      <th>school_setting_Suburban</th>\n",
              "      <th>school_setting_Rural</th>\n",
              "      <th>teaching_method</th>\n",
              "      <th>n_student</th>\n",
              "      <th>lunch</th>\n",
              "      <th>pretest</th>\n",
              "    </tr>\n",
              "  </thead>\n",
              "  <tbody>\n",
              "    <tr>\n",
              "      <th>614</th>\n",
              "      <td>0</td>\n",
              "      <td>1</td>\n",
              "      <td>0</td>\n",
              "      <td>1</td>\n",
              "      <td>27.0</td>\n",
              "      <td>1</td>\n",
              "      <td>55.0</td>\n",
              "    </tr>\n",
              "    <tr>\n",
              "      <th>1732</th>\n",
              "      <td>0</td>\n",
              "      <td>0</td>\n",
              "      <td>1</td>\n",
              "      <td>0</td>\n",
              "      <td>15.0</td>\n",
              "      <td>1</td>\n",
              "      <td>46.0</td>\n",
              "    </tr>\n",
              "    <tr>\n",
              "      <th>861</th>\n",
              "      <td>1</td>\n",
              "      <td>0</td>\n",
              "      <td>0</td>\n",
              "      <td>0</td>\n",
              "      <td>21.0</td>\n",
              "      <td>0</td>\n",
              "      <td>82.0</td>\n",
              "    </tr>\n",
              "    <tr>\n",
              "      <th>1083</th>\n",
              "      <td>0</td>\n",
              "      <td>0</td>\n",
              "      <td>1</td>\n",
              "      <td>1</td>\n",
              "      <td>23.0</td>\n",
              "      <td>1</td>\n",
              "      <td>33.0</td>\n",
              "    </tr>\n",
              "    <tr>\n",
              "      <th>371</th>\n",
              "      <td>0</td>\n",
              "      <td>1</td>\n",
              "      <td>0</td>\n",
              "      <td>0</td>\n",
              "      <td>20.0</td>\n",
              "      <td>0</td>\n",
              "      <td>48.0</td>\n",
              "    </tr>\n",
              "    <tr>\n",
              "      <th>...</th>\n",
              "      <td>...</td>\n",
              "      <td>...</td>\n",
              "      <td>...</td>\n",
              "      <td>...</td>\n",
              "      <td>...</td>\n",
              "      <td>...</td>\n",
              "      <td>...</td>\n",
              "    </tr>\n",
              "    <tr>\n",
              "      <th>1638</th>\n",
              "      <td>0</td>\n",
              "      <td>1</td>\n",
              "      <td>0</td>\n",
              "      <td>0</td>\n",
              "      <td>16.0</td>\n",
              "      <td>0</td>\n",
              "      <td>71.0</td>\n",
              "    </tr>\n",
              "    <tr>\n",
              "      <th>1095</th>\n",
              "      <td>0</td>\n",
              "      <td>0</td>\n",
              "      <td>1</td>\n",
              "      <td>1</td>\n",
              "      <td>23.0</td>\n",
              "      <td>1</td>\n",
              "      <td>36.0</td>\n",
              "    </tr>\n",
              "    <tr>\n",
              "      <th>1130</th>\n",
              "      <td>0</td>\n",
              "      <td>0</td>\n",
              "      <td>1</td>\n",
              "      <td>1</td>\n",
              "      <td>19.0</td>\n",
              "      <td>0</td>\n",
              "      <td>60.0</td>\n",
              "    </tr>\n",
              "    <tr>\n",
              "      <th>1294</th>\n",
              "      <td>1</td>\n",
              "      <td>0</td>\n",
              "      <td>0</td>\n",
              "      <td>1</td>\n",
              "      <td>22.0</td>\n",
              "      <td>0</td>\n",
              "      <td>49.0</td>\n",
              "    </tr>\n",
              "    <tr>\n",
              "      <th>860</th>\n",
              "      <td>1</td>\n",
              "      <td>0</td>\n",
              "      <td>0</td>\n",
              "      <td>1</td>\n",
              "      <td>22.0</td>\n",
              "      <td>0</td>\n",
              "      <td>72.0</td>\n",
              "    </tr>\n",
              "  </tbody>\n",
              "</table>\n",
              "<p>1493 rows × 7 columns</p>\n",
              "</div>"
            ],
            "text/plain": [
              "      school_setting_Urban  school_setting_Suburban  ...  lunch  pretest\n",
              "614                      0                        1  ...      1     55.0\n",
              "1732                     0                        0  ...      1     46.0\n",
              "861                      1                        0  ...      0     82.0\n",
              "1083                     0                        0  ...      1     33.0\n",
              "371                      0                        1  ...      0     48.0\n",
              "...                    ...                      ...  ...    ...      ...\n",
              "1638                     0                        1  ...      0     71.0\n",
              "1095                     0                        0  ...      1     36.0\n",
              "1130                     0                        0  ...      0     60.0\n",
              "1294                     1                        0  ...      0     49.0\n",
              "860                      1                        0  ...      0     72.0\n",
              "\n",
              "[1493 rows x 7 columns]"
            ]
          },
          "metadata": {},
          "execution_count": 26
        }
      ]
    },
    {
      "cell_type": "code",
      "metadata": {
        "colab": {
          "base_uri": "https://localhost:8080/"
        },
        "id": "P9DF2RURG3Ux",
        "outputId": "ce3dd7bc-09df-4761-8e22-332baa6f56be"
      },
      "source": [
        "y_train"
      ],
      "execution_count": 27,
      "outputs": [
        {
          "output_type": "execute_result",
          "data": {
            "text/plain": [
              "614     61.0\n",
              "1732    64.0\n",
              "861     93.0\n",
              "1083    46.0\n",
              "371     65.0\n",
              "        ... \n",
              "1638    81.0\n",
              "1095    45.0\n",
              "1130    71.0\n",
              "1294    56.0\n",
              "860     80.0\n",
              "Name: posttest, Length: 1493, dtype: float64"
            ]
          },
          "metadata": {},
          "execution_count": 27
        }
      ]
    },
    {
      "cell_type": "code",
      "metadata": {
        "colab": {
          "base_uri": "https://localhost:8080/",
          "height": 424
        },
        "id": "ef58nRX-pMky",
        "outputId": "a9fa0717-5ae5-4e5e-d9c1-7877c0ded153"
      },
      "source": [
        "X_test"
      ],
      "execution_count": 28,
      "outputs": [
        {
          "output_type": "execute_result",
          "data": {
            "text/html": [
              "<div>\n",
              "<style scoped>\n",
              "    .dataframe tbody tr th:only-of-type {\n",
              "        vertical-align: middle;\n",
              "    }\n",
              "\n",
              "    .dataframe tbody tr th {\n",
              "        vertical-align: top;\n",
              "    }\n",
              "\n",
              "    .dataframe thead th {\n",
              "        text-align: right;\n",
              "    }\n",
              "</style>\n",
              "<table border=\"1\" class=\"dataframe\">\n",
              "  <thead>\n",
              "    <tr style=\"text-align: right;\">\n",
              "      <th></th>\n",
              "      <th>school_setting_Urban</th>\n",
              "      <th>school_setting_Suburban</th>\n",
              "      <th>school_setting_Rural</th>\n",
              "      <th>teaching_method</th>\n",
              "      <th>n_student</th>\n",
              "      <th>lunch</th>\n",
              "      <th>pretest</th>\n",
              "    </tr>\n",
              "  </thead>\n",
              "  <tbody>\n",
              "    <tr>\n",
              "      <th>282</th>\n",
              "      <td>1</td>\n",
              "      <td>0</td>\n",
              "      <td>0</td>\n",
              "      <td>1</td>\n",
              "      <td>28.0</td>\n",
              "      <td>0</td>\n",
              "      <td>53.0</td>\n",
              "    </tr>\n",
              "    <tr>\n",
              "      <th>2014</th>\n",
              "      <td>0</td>\n",
              "      <td>1</td>\n",
              "      <td>0</td>\n",
              "      <td>0</td>\n",
              "      <td>23.0</td>\n",
              "      <td>0</td>\n",
              "      <td>70.0</td>\n",
              "    </tr>\n",
              "    <tr>\n",
              "      <th>1719</th>\n",
              "      <td>0</td>\n",
              "      <td>0</td>\n",
              "      <td>1</td>\n",
              "      <td>0</td>\n",
              "      <td>15.0</td>\n",
              "      <td>1</td>\n",
              "      <td>56.0</td>\n",
              "    </tr>\n",
              "    <tr>\n",
              "      <th>994</th>\n",
              "      <td>0</td>\n",
              "      <td>0</td>\n",
              "      <td>1</td>\n",
              "      <td>1</td>\n",
              "      <td>20.0</td>\n",
              "      <td>1</td>\n",
              "      <td>51.0</td>\n",
              "    </tr>\n",
              "    <tr>\n",
              "      <th>2033</th>\n",
              "      <td>1</td>\n",
              "      <td>0</td>\n",
              "      <td>0</td>\n",
              "      <td>1</td>\n",
              "      <td>27.0</td>\n",
              "      <td>1</td>\n",
              "      <td>53.0</td>\n",
              "    </tr>\n",
              "    <tr>\n",
              "      <th>...</th>\n",
              "      <td>...</td>\n",
              "      <td>...</td>\n",
              "      <td>...</td>\n",
              "      <td>...</td>\n",
              "      <td>...</td>\n",
              "      <td>...</td>\n",
              "      <td>...</td>\n",
              "    </tr>\n",
              "    <tr>\n",
              "      <th>619</th>\n",
              "      <td>0</td>\n",
              "      <td>0</td>\n",
              "      <td>1</td>\n",
              "      <td>0</td>\n",
              "      <td>22.0</td>\n",
              "      <td>1</td>\n",
              "      <td>58.0</td>\n",
              "    </tr>\n",
              "    <tr>\n",
              "      <th>1882</th>\n",
              "      <td>1</td>\n",
              "      <td>0</td>\n",
              "      <td>0</td>\n",
              "      <td>0</td>\n",
              "      <td>30.0</td>\n",
              "      <td>1</td>\n",
              "      <td>38.0</td>\n",
              "    </tr>\n",
              "    <tr>\n",
              "      <th>158</th>\n",
              "      <td>1</td>\n",
              "      <td>0</td>\n",
              "      <td>0</td>\n",
              "      <td>1</td>\n",
              "      <td>19.0</td>\n",
              "      <td>0</td>\n",
              "      <td>68.0</td>\n",
              "    </tr>\n",
              "    <tr>\n",
              "      <th>788</th>\n",
              "      <td>1</td>\n",
              "      <td>0</td>\n",
              "      <td>0</td>\n",
              "      <td>1</td>\n",
              "      <td>25.0</td>\n",
              "      <td>1</td>\n",
              "      <td>44.0</td>\n",
              "    </tr>\n",
              "    <tr>\n",
              "      <th>272</th>\n",
              "      <td>1</td>\n",
              "      <td>0</td>\n",
              "      <td>0</td>\n",
              "      <td>1</td>\n",
              "      <td>27.0</td>\n",
              "      <td>0</td>\n",
              "      <td>52.0</td>\n",
              "    </tr>\n",
              "  </tbody>\n",
              "</table>\n",
              "<p>640 rows × 7 columns</p>\n",
              "</div>"
            ],
            "text/plain": [
              "      school_setting_Urban  school_setting_Suburban  ...  lunch  pretest\n",
              "282                      1                        0  ...      0     53.0\n",
              "2014                     0                        1  ...      0     70.0\n",
              "1719                     0                        0  ...      1     56.0\n",
              "994                      0                        0  ...      1     51.0\n",
              "2033                     1                        0  ...      1     53.0\n",
              "...                    ...                      ...  ...    ...      ...\n",
              "619                      0                        0  ...      1     58.0\n",
              "1882                     1                        0  ...      1     38.0\n",
              "158                      1                        0  ...      0     68.0\n",
              "788                      1                        0  ...      1     44.0\n",
              "272                      1                        0  ...      0     52.0\n",
              "\n",
              "[640 rows x 7 columns]"
            ]
          },
          "metadata": {},
          "execution_count": 28
        }
      ]
    },
    {
      "cell_type": "code",
      "metadata": {
        "colab": {
          "base_uri": "https://localhost:8080/"
        },
        "id": "hef5lFTkOtfy",
        "outputId": "dd542a9a-7830-49d8-c879-2e064f92d91c"
      },
      "source": [
        "y_test"
      ],
      "execution_count": 29,
      "outputs": [
        {
          "output_type": "execute_result",
          "data": {
            "text/plain": [
              "282     68.0\n",
              "2014    87.0\n",
              "1719    70.0\n",
              "994     61.0\n",
              "2033    63.0\n",
              "        ... \n",
              "619     70.0\n",
              "1882    52.0\n",
              "158     78.0\n",
              "788     52.0\n",
              "272     58.0\n",
              "Name: posttest, Length: 640, dtype: float64"
            ]
          },
          "metadata": {},
          "execution_count": 29
        }
      ]
    },
    {
      "cell_type": "markdown",
      "metadata": {
        "id": "rD4YK2ycIEqT"
      },
      "source": [
        "Our Training and testing data looks good, and then we create function to find explained variance and accuracy score."
      ]
    },
    {
      "cell_type": "code",
      "metadata": {
        "id": "Zr0V_Kp1pPiu"
      },
      "source": [
        "def score(y_test, y_pred):\n",
        "    \"\"\"Helper function for evaluation metrics.\"\"\"\n",
        "    explained_variance = explained_variance_score(y_test, y_pred) * 100\n",
        "    mae = round(mean_absolute_error(y_test, y_pred), 2)\n",
        "    print(f\"\"\"Explained Variance: {explained_variance:.2f}%\n",
        "MAE: {mae:.2f}\"\"\")\n",
        "    \n",
        "    return explained_variance"
      ],
      "execution_count": 30,
      "outputs": []
    },
    {
      "cell_type": "code",
      "metadata": {
        "id": "nn2-Y7jtpRJZ"
      },
      "source": [
        "accuracy_scores = np.zeros(6, dtype=\"float64\")"
      ],
      "execution_count": 31,
      "outputs": []
    },
    {
      "cell_type": "markdown",
      "metadata": {
        "id": "5mMoC-6jtrsN"
      },
      "source": [
        "\n",
        "Linear Regression\n"
      ]
    },
    {
      "cell_type": "code",
      "metadata": {
        "colab": {
          "base_uri": "https://localhost:8080/"
        },
        "id": "c0HQtYaepSvN",
        "outputId": "9ab34cd2-55dc-48f7-8593-a8665378e18e"
      },
      "source": [
        "reg = LinearRegression().fit(X_train, y_train)\n",
        "y_pred = reg.predict(X_test)\n",
        "accuracy_scores[0] = score(y_test, y_pred)"
      ],
      "execution_count": 32,
      "outputs": [
        {
          "output_type": "stream",
          "name": "stdout",
          "text": [
            "Explained Variance: 94.76%\n",
            "MAE: 2.52\n"
          ]
        }
      ]
    },
    {
      "cell_type": "markdown",
      "metadata": {
        "id": "JTxy9gvOtulJ"
      },
      "source": [
        "\n",
        "Lasso Regression"
      ]
    },
    {
      "cell_type": "code",
      "metadata": {
        "colab": {
          "base_uri": "https://localhost:8080/"
        },
        "id": "WkMuwbjspUiU",
        "outputId": "62ae762c-e552-4d08-8f2b-915cd0e01b4e"
      },
      "source": [
        "reg1 = Lasso().fit(X_train, y_train)\n",
        "y_pred1 = reg1.predict(X_test)\n",
        "accuracy_scores[1] = score(y_test, y_pred1)"
      ],
      "execution_count": 33,
      "outputs": [
        {
          "output_type": "stream",
          "name": "stdout",
          "text": [
            "Explained Variance: 92.55%\n",
            "MAE: 3.04\n"
          ]
        }
      ]
    },
    {
      "cell_type": "markdown",
      "metadata": {
        "id": "SwXMK_9UtzDQ"
      },
      "source": [
        "\n",
        "Decision Tree Regression"
      ]
    },
    {
      "cell_type": "code",
      "metadata": {
        "colab": {
          "base_uri": "https://localhost:8080/"
        },
        "id": "pz9CW-YgpWbE",
        "outputId": "1c6c0a05-4a18-49b5-8cbc-4da26958e441"
      },
      "source": [
        "reg2 = DecisionTreeRegressor().fit(X_train, y_train)\n",
        "y_pred2 = reg2.predict(X_test)\n",
        "accuracy_scores[2] = score(y_test, y_pred2)"
      ],
      "execution_count": 34,
      "outputs": [
        {
          "output_type": "stream",
          "name": "stdout",
          "text": [
            "Explained Variance: 92.34%\n",
            "MAE: 3.03\n"
          ]
        }
      ]
    },
    {
      "cell_type": "markdown",
      "metadata": {
        "id": "U2iCGDGYt8o0"
      },
      "source": [
        "Support Vector Regression"
      ]
    },
    {
      "cell_type": "code",
      "metadata": {
        "colab": {
          "base_uri": "https://localhost:8080/"
        },
        "id": "upq23CkopYGO",
        "outputId": "840889d3-bf5b-42a6-f5d2-c79d9e7b88c7"
      },
      "source": [
        "reg3 = SVR().fit(X_train, y_train)\n",
        "y_pred3 = reg3.predict(X_test)\n",
        "accuracy_scores[3] = score(y_test, y_pred3)"
      ],
      "execution_count": 35,
      "outputs": [
        {
          "output_type": "stream",
          "name": "stdout",
          "text": [
            "Explained Variance: 91.11%\n",
            "MAE: 3.36\n"
          ]
        }
      ]
    },
    {
      "cell_type": "markdown",
      "metadata": {
        "id": "xlBbKJOIuBKG"
      },
      "source": [
        "Random Forest Regression"
      ]
    },
    {
      "cell_type": "code",
      "metadata": {
        "colab": {
          "base_uri": "https://localhost:8080/"
        },
        "id": "Uf-cqBqkpZfc",
        "outputId": "f9102b5e-bf39-4780-e9bc-110804797474"
      },
      "source": [
        "reg4 = RandomForestRegressor(n_estimators=100, random_state=42).fit(X_train, y_train)\n",
        "y_pred4 = reg4.predict(X_test)\n",
        "accuracy_scores[4] = score(y_test, y_pred4)"
      ],
      "execution_count": 36,
      "outputs": [
        {
          "output_type": "stream",
          "name": "stdout",
          "text": [
            "Explained Variance: 94.24%\n",
            "MAE: 2.65\n"
          ]
        }
      ]
    },
    {
      "cell_type": "markdown",
      "metadata": {
        "id": "84btVkHEuDnB"
      },
      "source": [
        "Neural Network Regression"
      ]
    },
    {
      "cell_type": "code",
      "metadata": {
        "id": "GjEpowNPpeEM"
      },
      "source": [
        "tf.random.set_seed(42)\n",
        "\n",
        "reg5 = tf.keras.Sequential([\n",
        "    tf.keras.layers.Dense(64, activation=\"relu\"),\n",
        "    tf.keras.layers.Dense(64, activation=\"relu\"),\n",
        "    tf.keras.layers.Dense(1),\n",
        "])\n",
        "\n",
        "reg5.compile(loss=tf.keras.losses.mae,\n",
        "              optimizer=tf.keras.optimizers.Adam(learning_rate=0.1),\n",
        "              metrics=[\"mae\"])\n",
        "\n",
        "history = reg5.fit(X_train, y_train, epochs=100, verbose=0)"
      ],
      "execution_count": 37,
      "outputs": []
    },
    {
      "cell_type": "code",
      "metadata": {
        "colab": {
          "base_uri": "https://localhost:8080/"
        },
        "id": "v4FI1WxwpjS-",
        "outputId": "bce11a0f-2fa7-404e-dcfe-a78283f6c073"
      },
      "source": [
        "reg5.evaluate(X_test, y_test)"
      ],
      "execution_count": 38,
      "outputs": [
        {
          "output_type": "stream",
          "name": "stdout",
          "text": [
            "20/20 [==============================] - 0s 1ms/step - loss: 2.8857 - mae: 2.8857\n"
          ]
        },
        {
          "output_type": "execute_result",
          "data": {
            "text/plain": [
              "[2.8856632709503174, 2.8856632709503174]"
            ]
          },
          "metadata": {},
          "execution_count": 38
        }
      ]
    },
    {
      "cell_type": "code",
      "metadata": {
        "colab": {
          "base_uri": "https://localhost:8080/"
        },
        "id": "XwZjOdEtpk7f",
        "outputId": "1bbf2afa-171a-4841-b99f-64550fd28128"
      },
      "source": [
        "y_pred5 = reg5.predict(X_test)\n",
        "accuracy_scores[5] = score(y_test, y_pred5)"
      ],
      "execution_count": 39,
      "outputs": [
        {
          "output_type": "stream",
          "name": "stdout",
          "text": [
            "Explained Variance: 94.70%\n",
            "MAE: 2.89\n"
          ]
        }
      ]
    },
    {
      "cell_type": "code",
      "metadata": {
        "colab": {
          "base_uri": "https://localhost:8080/",
          "height": 497
        },
        "id": "3q2Aadk7pkz0",
        "outputId": "84e61013-364e-4f4c-f3ee-09d2dbf99c63"
      },
      "source": [
        "models = [\n",
        "          \"Linear Regression\", \"Lasso Regressor\", \"Decision Tree Regressor\",\n",
        "          \"Support Vector Regressor\", \"Random Forest Regressor\", \"Neural Network Regression\",\n",
        "         ]\n",
        "\n",
        "plt.figure(figsize=(10, 6))\n",
        "sns.barplot(x=models, y=accuracy_scores)\n",
        "\n",
        "plt.xlabel(\"Model Name\")\n",
        "plt.xticks(rotation = 45)\n",
        "plt.ylabel(\"Accuracy\")\n",
        "\n",
        "plt.show()"
      ],
      "execution_count": 40,
      "outputs": [
        {
          "output_type": "display_data",
          "data": {
            "image/png": "[encoded data removed]",
            "text/plain": [
              "<Figure size 720x432 with 1 Axes>"
            ]
          },
          "metadata": {}
        }
      ]
    },
    {
      "cell_type": "markdown",
      "metadata": {
        "id": "q7XQNPDnufsZ"
      },
      "source": [
        "According to 6 models above, Linear Regression model has the highest Explained Variance: 94.76% and the smallest MAE: 2.52"
      ]
    }
  ]
}